{
 "cells": [
  {
   "cell_type": "markdown",
   "metadata": {},
   "source": [
    "#### Magic Commands\n",
    "Magic commands (those that start with `%`) are commands that modify a configuration of Jupyter Notebooks. A number of magic commands are available by default (see list [here](http://ipython.readthedocs.io/en/stable/interactive/magics.html))--and many more can be added with extensions. The magic command added in this section allows `matplotlib` to display our plots directly on the browser instead of having to save them on a local file."
   ]
  },
  {
   "cell_type": "code",
   "execution_count": 1,
   "metadata": {},
   "outputs": [],
   "source": [
    "%matplotlib inline"
   ]
  },
  {
   "cell_type": "markdown",
   "metadata": {},
   "source": [
    "# Exercise 4.01: Re-training a model dynamically\n",
    "In this activity, we re-train our model every time new data is available.\n",
    "\n",
    "First, we start by importing `cryptonic`. Cryptonic is a simple software application developed for this course that implements all the steps up to this section using Python classes and modules. Consider Cryptonic a template on how you could develop similar applications."
   ]
  },
  {
   "cell_type": "code",
   "execution_count": 2,
   "metadata": {},
   "outputs": [],
   "source": [
    "import pandas as pd\n",
    "import numpy as np"
   ]
  },
  {
   "cell_type": "code",
   "execution_count": 3,
   "metadata": {},
   "outputs": [],
   "source": [
    "from tqdm import tqdm_notebook"
   ]
  },
  {
   "cell_type": "code",
   "execution_count": 4,
   "metadata": {},
   "outputs": [],
   "source": [
    "import matplotlib.pyplot as plt\n",
    "plt.style.use('seaborn-white')\n",
    "import yfinance as yf"
   ]
  },
  {
   "cell_type": "code",
   "execution_count": 5,
   "metadata": {},
   "outputs": [],
   "source": [
    "from cryptonic import Model\n",
    "import cryptonic.models.normalizations as normalizations"
   ]
  },
  {
   "cell_type": "markdown",
   "metadata": {},
   "source": [
    "### Fetching Real-time Data\n",
    "Throughout this project we have been using data originally provided by Yahoo finance API. We have created an interface for collecting both real-time and historical data."
   ]
  },
  {
   "cell_type": "markdown",
   "metadata": {},
   "source": [
    "Our model is designed to work with daily data. Let's go ahead and collect historic daily data from Yahoo finance."
   ]
  },
  {
   "cell_type": "code",
   "execution_count": 6,
   "metadata": {},
   "outputs": [],
   "source": [
    "ticker =  yf.Ticker(\"BTC-USD\")\n",
    "historic_data = ticker.history(period='max')"
   ]
  },
  {
   "cell_type": "code",
   "execution_count": 7,
   "metadata": {},
   "outputs": [],
   "source": [
    "historic_data = historic_data.rename(columns={'Open':'open', 'High':'high', 'Low':'low', 'Close':'close', 'Volume':'volume'})\n",
    "historic_data.index.names = ['date']\n",
    "historic_data = historic_data[['open','high', 'low', 'close', 'volume']]\n",
    "historic_data = historic_data.reset_index()"
   ]
  },
  {
   "cell_type": "code",
   "execution_count": 8,
   "metadata": {},
   "outputs": [
    {
     "data": {
      "text/html": [
       "<div>\n",
       "<style scoped>\n",
       "    .dataframe tbody tr th:only-of-type {\n",
       "        vertical-align: middle;\n",
       "    }\n",
       "\n",
       "    .dataframe tbody tr th {\n",
       "        vertical-align: top;\n",
       "    }\n",
       "\n",
       "    .dataframe thead th {\n",
       "        text-align: right;\n",
       "    }\n",
       "</style>\n",
       "<table border=\"1\" class=\"dataframe\">\n",
       "  <thead>\n",
       "    <tr style=\"text-align: right;\">\n",
       "      <th></th>\n",
       "      <th>date</th>\n",
       "      <th>open</th>\n",
       "      <th>high</th>\n",
       "      <th>low</th>\n",
       "      <th>close</th>\n",
       "      <th>volume</th>\n",
       "    </tr>\n",
       "  </thead>\n",
       "  <tbody>\n",
       "    <tr>\n",
       "      <th>0</th>\n",
       "      <td>2014-09-17</td>\n",
       "      <td>465.86</td>\n",
       "      <td>468.17</td>\n",
       "      <td>452.42</td>\n",
       "      <td>457.33</td>\n",
       "      <td>21056800</td>\n",
       "    </tr>\n",
       "    <tr>\n",
       "      <th>1</th>\n",
       "      <td>2014-09-18</td>\n",
       "      <td>456.86</td>\n",
       "      <td>456.86</td>\n",
       "      <td>413.10</td>\n",
       "      <td>424.44</td>\n",
       "      <td>34483200</td>\n",
       "    </tr>\n",
       "    <tr>\n",
       "      <th>2</th>\n",
       "      <td>2014-09-19</td>\n",
       "      <td>424.10</td>\n",
       "      <td>427.83</td>\n",
       "      <td>384.53</td>\n",
       "      <td>394.80</td>\n",
       "      <td>37919700</td>\n",
       "    </tr>\n",
       "  </tbody>\n",
       "</table>\n",
       "</div>"
      ],
      "text/plain": [
       "        date    open    high     low   close    volume\n",
       "0 2014-09-17  465.86  468.17  452.42  457.33  21056800\n",
       "1 2014-09-18  456.86  456.86  413.10  424.44  34483200\n",
       "2 2014-09-19  424.10  427.83  384.53  394.80  37919700"
      ]
     },
     "execution_count": 8,
     "metadata": {},
     "output_type": "execute_result"
    }
   ],
   "source": [
    "historic_data.head(3)"
   ]
  },
  {
   "cell_type": "markdown",
   "metadata": {},
   "source": [
    "The data contains practically the same variables from our earlier dataset. However, much of the data comes from an earlier period. Recent Bitcoin prices have gained a lot of volatility if compared to the prices of a few years ago. Before using this data in our model, let's make sure to filter it to dates after January 1, 2019 and before December 31,2019."
   ]
  },
  {
   "cell_type": "code",
   "execution_count": 13,
   "metadata": {},
   "outputs": [],
   "source": [
    "#\n",
    "#  Using the Pandas API, filter the dataframe\n",
    "#  for observations from 2017 only. \n",
    "# \n",
    "#  Hint: use the `date` column / variable.\n",
    "#\n",
    "\n",
    "start_date = '01-01-2019'\n",
    "end_date = '31-12-2019'\n",
    "mask = ((historic_data['date'] >= start_date) & (historic_data['date']<= end_date))\n",
    "model_data = historic_data[mask]\n",
    "model_data = model_data.reset_index(drop=True)"
   ]
  },
  {
   "cell_type": "code",
   "execution_count": 39,
   "metadata": {},
   "outputs": [
    {
     "data": {
      "text/html": [
       "<div>\n",
       "<style scoped>\n",
       "    .dataframe tbody tr th:only-of-type {\n",
       "        vertical-align: middle;\n",
       "    }\n",
       "\n",
       "    .dataframe tbody tr th {\n",
       "        vertical-align: top;\n",
       "    }\n",
       "\n",
       "    .dataframe thead th {\n",
       "        text-align: right;\n",
       "    }\n",
       "</style>\n",
       "<table border=\"1\" class=\"dataframe\">\n",
       "  <thead>\n",
       "    <tr style=\"text-align: right;\">\n",
       "      <th></th>\n",
       "      <th>date</th>\n",
       "      <th>open</th>\n",
       "      <th>high</th>\n",
       "      <th>low</th>\n",
       "      <th>close</th>\n",
       "      <th>volume</th>\n",
       "    </tr>\n",
       "  </thead>\n",
       "  <tbody>\n",
       "    <tr>\n",
       "      <th>0</th>\n",
       "      <td>2019-01-01</td>\n",
       "      <td>3746.71</td>\n",
       "      <td>3850.91</td>\n",
       "      <td>3707.23</td>\n",
       "      <td>3843.52</td>\n",
       "      <td>4324200990</td>\n",
       "    </tr>\n",
       "    <tr>\n",
       "      <th>1</th>\n",
       "      <td>2019-01-02</td>\n",
       "      <td>3849.22</td>\n",
       "      <td>3947.98</td>\n",
       "      <td>3817.41</td>\n",
       "      <td>3943.41</td>\n",
       "      <td>5244856835</td>\n",
       "    </tr>\n",
       "    <tr>\n",
       "      <th>2</th>\n",
       "      <td>2019-01-03</td>\n",
       "      <td>3931.05</td>\n",
       "      <td>3935.69</td>\n",
       "      <td>3826.22</td>\n",
       "      <td>3836.74</td>\n",
       "      <td>4530215218</td>\n",
       "    </tr>\n",
       "    <tr>\n",
       "      <th>3</th>\n",
       "      <td>2019-01-04</td>\n",
       "      <td>3832.04</td>\n",
       "      <td>3865.93</td>\n",
       "      <td>3783.85</td>\n",
       "      <td>3857.72</td>\n",
       "      <td>4847965467</td>\n",
       "    </tr>\n",
       "    <tr>\n",
       "      <th>4</th>\n",
       "      <td>2019-01-05</td>\n",
       "      <td>3851.97</td>\n",
       "      <td>3904.90</td>\n",
       "      <td>3836.90</td>\n",
       "      <td>3845.19</td>\n",
       "      <td>5137609823</td>\n",
       "    </tr>\n",
       "    <tr>\n",
       "      <th>...</th>\n",
       "      <td>...</td>\n",
       "      <td>...</td>\n",
       "      <td>...</td>\n",
       "      <td>...</td>\n",
       "      <td>...</td>\n",
       "      <td>...</td>\n",
       "    </tr>\n",
       "    <tr>\n",
       "      <th>360</th>\n",
       "      <td>2019-12-27</td>\n",
       "      <td>7238.14</td>\n",
       "      <td>7363.53</td>\n",
       "      <td>7189.93</td>\n",
       "      <td>7290.09</td>\n",
       "      <td>22777360995</td>\n",
       "    </tr>\n",
       "    <tr>\n",
       "      <th>361</th>\n",
       "      <td>2019-12-28</td>\n",
       "      <td>7289.03</td>\n",
       "      <td>7399.04</td>\n",
       "      <td>7286.91</td>\n",
       "      <td>7317.99</td>\n",
       "      <td>21365673026</td>\n",
       "    </tr>\n",
       "    <tr>\n",
       "      <th>362</th>\n",
       "      <td>2019-12-29</td>\n",
       "      <td>7317.65</td>\n",
       "      <td>7513.95</td>\n",
       "      <td>7279.87</td>\n",
       "      <td>7422.65</td>\n",
       "      <td>22445257701</td>\n",
       "    </tr>\n",
       "    <tr>\n",
       "      <th>363</th>\n",
       "      <td>2019-12-30</td>\n",
       "      <td>7420.27</td>\n",
       "      <td>7454.82</td>\n",
       "      <td>7276.31</td>\n",
       "      <td>7293.00</td>\n",
       "      <td>22874131671</td>\n",
       "    </tr>\n",
       "    <tr>\n",
       "      <th>364</th>\n",
       "      <td>2019-12-31</td>\n",
       "      <td>7294.44</td>\n",
       "      <td>7335.29</td>\n",
       "      <td>7169.78</td>\n",
       "      <td>7193.60</td>\n",
       "      <td>21167946112</td>\n",
       "    </tr>\n",
       "  </tbody>\n",
       "</table>\n",
       "<p>365 rows × 6 columns</p>\n",
       "</div>"
      ],
      "text/plain": [
       "          date     open     high      low    close       volume\n",
       "0   2019-01-01  3746.71  3850.91  3707.23  3843.52   4324200990\n",
       "1   2019-01-02  3849.22  3947.98  3817.41  3943.41   5244856835\n",
       "2   2019-01-03  3931.05  3935.69  3826.22  3836.74   4530215218\n",
       "3   2019-01-04  3832.04  3865.93  3783.85  3857.72   4847965467\n",
       "4   2019-01-05  3851.97  3904.90  3836.90  3845.19   5137609823\n",
       "..         ...      ...      ...      ...      ...          ...\n",
       "360 2019-12-27  7238.14  7363.53  7189.93  7290.09  22777360995\n",
       "361 2019-12-28  7289.03  7399.04  7286.91  7317.99  21365673026\n",
       "362 2019-12-29  7317.65  7513.95  7279.87  7422.65  22445257701\n",
       "363 2019-12-30  7420.27  7454.82  7276.31  7293.00  22874131671\n",
       "364 2019-12-31  7294.44  7335.29  7169.78  7193.60  21167946112\n",
       "\n",
       "[365 rows x 6 columns]"
      ]
     },
     "execution_count": 39,
     "metadata": {},
     "output_type": "execute_result"
    }
   ],
   "source": [
    "model_data"
   ]
  },
  {
   "cell_type": "code",
   "execution_count": 15,
   "metadata": {},
   "outputs": [],
   "source": [
    "M = Model(data=model_data,\n",
    "          variable='close',\n",
    "          predicted_period_size=7)"
   ]
  },
  {
   "cell_type": "code",
   "execution_count": 16,
   "metadata": {},
   "outputs": [
    {
     "data": {
      "text/plain": [
       "<tensorflow.python.keras.engine.sequential.Sequential at 0x1b29fa03400>"
      ]
     },
     "execution_count": 16,
     "metadata": {},
     "output_type": "execute_result"
    }
   ],
   "source": [
    "M.build()"
   ]
  },
  {
   "cell_type": "code",
   "execution_count": 17,
   "metadata": {},
   "outputs": [
    {
     "name": "stdout",
     "output_type": "stream",
     "text": [
      "Train on 1 samples\n",
      "Epoch 1/100\n",
      "1/1 [==============================] - 2s 2s/sample - loss: 1.2147e-04\n",
      "Epoch 2/100\n",
      "1/1 [==============================] - 0s 15ms/sample - loss: 3.4472e-05\n",
      "Epoch 3/100\n",
      "1/1 [==============================] - 0s 16ms/sample - loss: 1.5419e-05\n",
      "Epoch 4/100\n",
      "1/1 [==============================] - 0s 13ms/sample - loss: 7.9079e-06\n",
      "Epoch 5/100\n",
      "1/1 [==============================] - 0s 12ms/sample - loss: 4.1965e-06\n",
      "Epoch 6/100\n",
      "1/1 [==============================] - 0s 13ms/sample - loss: 2.2762e-06\n",
      "Epoch 7/100\n",
      "1/1 [==============================] - 0s 13ms/sample - loss: 1.3262e-06\n",
      "Epoch 8/100\n",
      "1/1 [==============================] - 0s 15ms/sample - loss: 8.7326e-07\n",
      "Epoch 9/100\n",
      "1/1 [==============================] - 0s 15ms/sample - loss: 6.8344e-07\n",
      "Epoch 10/100\n",
      "1/1 [==============================] - 0s 13ms/sample - loss: 6.3537e-07\n",
      "Epoch 11/100\n",
      "1/1 [==============================] - 0s 16ms/sample - loss: 6.8976e-07\n",
      "Epoch 12/100\n",
      "1/1 [==============================] - 0s 14ms/sample - loss: 8.3603e-07\n",
      "Epoch 13/100\n",
      "1/1 [==============================] - 0s 14ms/sample - loss: 1.0978e-06\n",
      "Epoch 14/100\n",
      "1/1 [==============================] - 0s 14ms/sample - loss: 1.4784e-06\n",
      "Epoch 15/100\n",
      "1/1 [==============================] - 0s 15ms/sample - loss: 1.9603e-06\n",
      "Epoch 16/100\n",
      "1/1 [==============================] - 0s 16ms/sample - loss: 2.3922e-06\n",
      "Epoch 17/100\n",
      "1/1 [==============================] - 0s 13ms/sample - loss: 2.6298e-06\n",
      "Epoch 18/100\n",
      "1/1 [==============================] - 0s 15ms/sample - loss: 2.5444e-06\n",
      "Epoch 19/100\n",
      "1/1 [==============================] - 0s 16ms/sample - loss: 2.2713e-06\n",
      "Epoch 20/100\n",
      "1/1 [==============================] - 0s 15ms/sample - loss: 1.9194e-06\n",
      "Epoch 21/100\n",
      "1/1 [==============================] - 0s 15ms/sample - loss: 1.6337e-06\n",
      "Epoch 22/100\n",
      "1/1 [==============================] - 0s 13ms/sample - loss: 1.4256e-06\n",
      "Epoch 23/100\n",
      "1/1 [==============================] - 0s 14ms/sample - loss: 1.3203e-06\n",
      "Epoch 24/100\n",
      "1/1 [==============================] - 0s 14ms/sample - loss: 1.2932e-06\n",
      "Epoch 25/100\n",
      "1/1 [==============================] - 0s 15ms/sample - loss: 1.3527e-06\n",
      "Epoch 26/100\n",
      "1/1 [==============================] - 0s 15ms/sample - loss: 1.4801e-06\n",
      "Epoch 27/100\n",
      "1/1 [==============================] - 0s 16ms/sample - loss: 1.6813e-06\n",
      "Epoch 28/100\n",
      "1/1 [==============================] - 0s 15ms/sample - loss: 1.9164e-06\n",
      "Epoch 29/100\n",
      "1/1 [==============================] - 0s 17ms/sample - loss: 2.1575e-06\n",
      "Epoch 30/100\n",
      "1/1 [==============================] - 0s 20ms/sample - loss: 2.3191e-06\n",
      "Epoch 31/100\n",
      "1/1 [==============================] - 0s 18ms/sample - loss: 2.3745e-06\n",
      "Epoch 32/100\n",
      "1/1 [==============================] - 0s 16ms/sample - loss: 2.2911e-06\n",
      "Epoch 33/100\n",
      "1/1 [==============================] - 0s 18ms/sample - loss: 2.1342e-06\n",
      "Epoch 34/100\n",
      "1/1 [==============================] - 0s 16ms/sample - loss: 1.9387e-06\n",
      "Epoch 35/100\n",
      "1/1 [==============================] - 0s 16ms/sample - loss: 1.7715e-06\n",
      "Epoch 36/100\n",
      "1/1 [==============================] - 0s 15ms/sample - loss: 1.6429e-06\n",
      "Epoch 37/100\n",
      "1/1 [==============================] - 0s 18ms/sample - loss: 1.5765e-06\n",
      "Epoch 38/100\n",
      "1/1 [==============================] - 0s 21ms/sample - loss: 1.5615e-06\n",
      "Epoch 39/100\n",
      "1/1 [==============================] - 0s 17ms/sample - loss: 1.6042e-06\n",
      "Epoch 40/100\n",
      "1/1 [==============================] - 0s 14ms/sample - loss: 1.6870e-06\n",
      "Epoch 41/100\n",
      "1/1 [==============================] - 0s 20ms/sample - loss: 1.8060e-06\n",
      "Epoch 42/100\n",
      "1/1 [==============================] - 0s 21ms/sample - loss: 1.9321e-06\n",
      "Epoch 43/100\n",
      "1/1 [==============================] - 0s 22ms/sample - loss: 2.0531e-06\n",
      "Epoch 44/100\n",
      "1/1 [==============================] - 0s 16ms/sample - loss: 2.1417e-06\n",
      "Epoch 45/100\n",
      "1/1 [==============================] - 0s 16ms/sample - loss: 2.1849e-06\n",
      "Epoch 46/100\n",
      "1/1 [==============================] - 0s 15ms/sample - loss: 2.1303e-06\n",
      "Epoch 47/100\n",
      "1/1 [==============================] - 0s 17ms/sample - loss: 1.9995e-06\n",
      "Epoch 48/100\n",
      "1/1 [==============================] - 0s 17ms/sample - loss: 1.8541e-06\n",
      "Epoch 49/100\n",
      "1/1 [==============================] - 0s 17ms/sample - loss: 1.7422e-06\n",
      "Epoch 50/100\n",
      "1/1 [==============================] - 0s 18ms/sample - loss: 1.6691e-06\n",
      "Epoch 51/100\n",
      "1/1 [==============================] - 0s 14ms/sample - loss: 1.6398e-06\n",
      "Epoch 52/100\n",
      "1/1 [==============================] - 0s 21ms/sample - loss: 1.6448e-06\n",
      "Epoch 53/100\n",
      "1/1 [==============================] - 0s 17ms/sample - loss: 1.6786e-06\n",
      "Epoch 54/100\n",
      "1/1 [==============================] - 0s 16ms/sample - loss: 1.7277e-06\n",
      "Epoch 55/100\n",
      "1/1 [==============================] - 0s 16ms/sample - loss: 1.7818e-06\n",
      "Epoch 56/100\n",
      "1/1 [==============================] - 0s 18ms/sample - loss: 1.8279e-06\n",
      "Epoch 57/100\n",
      "1/1 [==============================] - 0s 13ms/sample - loss: 1.8582e-06\n",
      "Epoch 58/100\n",
      "1/1 [==============================] - 0s 14ms/sample - loss: 1.8657e-06\n",
      "Epoch 59/100\n",
      "1/1 [==============================] - 0s 12ms/sample - loss: 1.8504e-06\n",
      "Epoch 60/100\n",
      "1/1 [==============================] - 0s 12ms/sample - loss: 1.8142e-06\n",
      "Epoch 61/100\n",
      "1/1 [==============================] - 0s 13ms/sample - loss: 1.7695e-06\n",
      "Epoch 62/100\n",
      "1/1 [==============================] - 0s 12ms/sample - loss: 1.7445e-06\n",
      "Epoch 63/100\n",
      "1/1 [==============================] - 0s 13ms/sample - loss: 1.8115e-06\n",
      "Epoch 64/100\n",
      "1/1 [==============================] - 0s 13ms/sample - loss: 1.8910e-06\n",
      "Epoch 65/100\n",
      "1/1 [==============================] - 0s 12ms/sample - loss: 1.7825e-06\n",
      "Epoch 66/100\n",
      "1/1 [==============================] - 0s 13ms/sample - loss: 1.6935e-06\n",
      "Epoch 67/100\n",
      "1/1 [==============================] - 0s 13ms/sample - loss: 1.6550e-06\n",
      "Epoch 68/100\n",
      "1/1 [==============================] - 0s 12ms/sample - loss: 1.6444e-06\n",
      "Epoch 69/100\n",
      "1/1 [==============================] - 0s 16ms/sample - loss: 1.6479e-06\n",
      "Epoch 70/100\n",
      "1/1 [==============================] - 0s 14ms/sample - loss: 1.6721e-06\n",
      "Epoch 71/100\n",
      "1/1 [==============================] - 0s 13ms/sample - loss: 1.7148e-06\n",
      "Epoch 72/100\n",
      "1/1 [==============================] - 0s 13ms/sample - loss: 1.7653e-06\n",
      "Epoch 73/100\n",
      "1/1 [==============================] - 0s 14ms/sample - loss: 1.7902e-06\n",
      "Epoch 74/100\n",
      "1/1 [==============================] - 0s 16ms/sample - loss: 1.7627e-06\n",
      "Epoch 75/100\n",
      "1/1 [==============================] - 0s 15ms/sample - loss: 1.6830e-06\n",
      "Epoch 76/100\n",
      "1/1 [==============================] - 0s 13ms/sample - loss: 1.5862e-06\n",
      "Epoch 77/100\n",
      "1/1 [==============================] - 0s 14ms/sample - loss: 1.5132e-06\n",
      "Epoch 78/100\n",
      "1/1 [==============================] - 0s 15ms/sample - loss: 1.4994e-06\n",
      "Epoch 79/100\n",
      "1/1 [==============================] - 0s 13ms/sample - loss: 1.5549e-06\n",
      "Epoch 80/100\n",
      "1/1 [==============================] - 0s 15ms/sample - loss: 1.6773e-06\n",
      "Epoch 81/100\n",
      "1/1 [==============================] - 0s 14ms/sample - loss: 1.8447e-06\n",
      "Epoch 82/100\n",
      "1/1 [==============================] - 0s 13ms/sample - loss: 1.9734e-06\n",
      "Epoch 83/100\n",
      "1/1 [==============================] - 0s 14ms/sample - loss: 1.8345e-06\n",
      "Epoch 84/100\n",
      "1/1 [==============================] - 0s 14ms/sample - loss: 1.5852e-06\n",
      "Epoch 85/100\n",
      "1/1 [==============================] - 0s 15ms/sample - loss: 1.3534e-06\n",
      "Epoch 86/100\n",
      "1/1 [==============================] - 0s 18ms/sample - loss: 1.1807e-06\n",
      "Epoch 87/100\n",
      "1/1 [==============================] - 0s 14ms/sample - loss: 1.0699e-06\n",
      "Epoch 88/100\n",
      "1/1 [==============================] - 0s 13ms/sample - loss: 1.0288e-06\n",
      "Epoch 89/100\n",
      "1/1 [==============================] - 0s 13ms/sample - loss: 1.0644e-06\n",
      "Epoch 90/100\n",
      "1/1 [==============================] - 0s 15ms/sample - loss: 1.2327e-06\n",
      "Epoch 91/100\n",
      "1/1 [==============================] - 0s 14ms/sample - loss: 1.7305e-06\n",
      "Epoch 92/100\n",
      "1/1 [==============================] - 0s 13ms/sample - loss: 2.8650e-06\n",
      "Epoch 93/100\n",
      "1/1 [==============================] - 0s 14ms/sample - loss: 3.4130e-06\n",
      "Epoch 94/100\n",
      "1/1 [==============================] - 0s 13ms/sample - loss: 2.5621e-06\n",
      "Epoch 95/100\n",
      "1/1 [==============================] - 0s 13ms/sample - loss: 1.6395e-06\n",
      "Epoch 96/100\n",
      "1/1 [==============================] - 0s 14ms/sample - loss: 1.1243e-06\n"
     ]
    },
    {
     "name": "stdout",
     "output_type": "stream",
     "text": [
      "Epoch 97/100\n",
      "1/1 [==============================] - 0s 14ms/sample - loss: 9.3016e-07\n",
      "Epoch 98/100\n",
      "1/1 [==============================] - 0s 14ms/sample - loss: 9.6171e-07\n",
      "Epoch 99/100\n",
      "1/1 [==============================] - 0s 14ms/sample - loss: 1.1688e-06\n",
      "Epoch 100/100\n",
      "1/1 [==============================] - 0s 14ms/sample - loss: 1.4914e-06\n"
     ]
    },
    {
     "data": {
      "text/plain": [
       "<tensorflow.python.keras.callbacks.History at 0x1b29fe360f0>"
      ]
     },
     "execution_count": 17,
     "metadata": {},
     "output_type": "execute_result"
    }
   ],
   "source": [
    "M.train(epochs=100, verbose=1)"
   ]
  },
  {
   "cell_type": "markdown",
   "metadata": {},
   "source": [
    "We can now use the model for making predictions with the `predict()` method. The parameter `denormalized` will return values in the original scale of the data. In our case, US dollars."
   ]
  },
  {
   "cell_type": "code",
   "execution_count": 18,
   "metadata": {},
   "outputs": [
    {
     "data": {
      "text/plain": [
       "array([7207.736 , 7135.076 , 7100.197 , 7158.1567, 7187.7617, 7288.418 ,\n",
       "       7152.7134], dtype=float32)"
      ]
     },
     "execution_count": 18,
     "metadata": {},
     "output_type": "execute_result"
    }
   ],
   "source": [
    "M.predict(denormalized=True)"
   ]
  },
  {
   "cell_type": "markdown",
   "metadata": {},
   "source": [
    "We now evaluate our model to inspect the statistics for the last epoch of training compared to a single test week."
   ]
  },
  {
   "cell_type": "code",
   "execution_count": 19,
   "metadata": {},
   "outputs": [
    {
     "data": {
      "text/plain": [
       "{'mse': 0.0, 'rmse': 59.23, 'mape': 0.72}"
      ]
     },
     "execution_count": 19,
     "metadata": {},
     "output_type": "execute_result"
    }
   ],
   "source": [
    "M.evaluate()"
   ]
  },
  {
   "cell_type": "markdown",
   "metadata": {},
   "source": [
    "Finally, we can now save the trained model on disk for later use."
   ]
  },
  {
   "cell_type": "code",
   "execution_count": 20,
   "metadata": {},
   "outputs": [],
   "source": [
    "M.save('bitcoin_model_prod_v0.h5')"
   ]
  },
  {
   "cell_type": "markdown",
   "metadata": {},
   "source": [
    "Our `Model()` class can also load a previously trained model when instantiated with the `path` parameter."
   ]
  },
  {
   "cell_type": "code",
   "execution_count": 21,
   "metadata": {},
   "outputs": [],
   "source": [
    "M = Model(path='bitcoin_model_prod_v0.h5',\n",
    "          data=model_data,\n",
    "          variable='close',\n",
    "          predicted_period_size=7)"
   ]
  },
  {
   "cell_type": "code",
   "execution_count": 22,
   "metadata": {},
   "outputs": [
    {
     "data": {
      "text/plain": [
       "array([7207.736 , 7135.076 , 7100.197 , 7158.1567, 7187.7617, 7288.418 ,\n",
       "       7152.7134], dtype=float32)"
      ]
     },
     "execution_count": 22,
     "metadata": {},
     "output_type": "execute_result"
    }
   ],
   "source": [
    "M.predict(denormalized=True)"
   ]
  },
  {
   "cell_type": "markdown",
   "metadata": {},
   "source": [
    "### New Data, Re-train Old Model\n",
    "One strategy discussed earlier regards the re-training of our model with new data. In our case, our biggest concern is to shape data in a way that the model has been configured. As an example, we will configure our model to predict a week using 48 weeks. We will first train the model with the first 40 weeks of 2019, then continue to re-train it over the following weeks until we reach week 51."
   ]
  },
  {
   "cell_type": "code",
   "execution_count": 23,
   "metadata": {},
   "outputs": [
    {
     "name": "stdout",
     "output_type": "stream",
     "text": [
      "Number of full weeks: 52\n"
     ]
    }
   ],
   "source": [
    "print('Number of full weeks: {}'.format(len(model_data) // 7))"
   ]
  },
  {
   "cell_type": "markdown",
   "metadata": {},
   "source": [
    "First, let's build a model with the first set of data. Notice how we use `7*40 + 7` as the indexer. This is because we use 40 weeks for training and 1 week for testing. "
   ]
  },
  {
   "cell_type": "code",
   "execution_count": 24,
   "metadata": {},
   "outputs": [],
   "source": [
    "M = Model(data=model_data.loc[0*7:7*40 + 7],\n",
    "          variable='close',\n",
    "          predicted_period_size=7)"
   ]
  },
  {
   "cell_type": "code",
   "execution_count": 25,
   "metadata": {},
   "outputs": [
    {
     "data": {
      "text/plain": [
       "<tensorflow.python.keras.engine.sequential.Sequential at 0x1b2a4fac400>"
      ]
     },
     "execution_count": 25,
     "metadata": {},
     "output_type": "execute_result"
    }
   ],
   "source": [
    "M.build()"
   ]
  },
  {
   "cell_type": "code",
   "execution_count": 26,
   "metadata": {},
   "outputs": [
    {
     "data": {
      "text/plain": [
       "<tensorflow.python.keras.callbacks.History at 0x1b2a64366a0>"
      ]
     },
     "execution_count": 26,
     "metadata": {},
     "output_type": "execute_result"
    }
   ],
   "source": [
    "M.train()"
   ]
  },
  {
   "cell_type": "code",
   "execution_count": 29,
   "metadata": {},
   "outputs": [
    {
     "name": "stdout",
     "output_type": "stream",
     "text": [
      "Training model 1 for week 41\n",
      "Training model 2 for week 42\n",
      "Training model 3 for week 43\n",
      "Training model 4 for week 44\n",
      "Training model 5 for week 45\n",
      "Training model 6 for week 46\n",
      "Training model 7 for week 47\n",
      "Training model 8 for week 48\n",
      "Training model 9 for week 49\n",
      "Training model 10 for week 50\n",
      "Training model 11 for week 51\n"
     ]
    }
   ],
   "source": [
    "#\n",
    "#  Complete the range function and\n",
    "#  the model_data filtering parameters\n",
    "#  using an index to split the data in overlapping\n",
    "#  groups of 7 days. Then, re-train our model\n",
    "#  and collect the results.\n",
    "#\n",
    "#  The variables A, B, C, and D are placeholders.\n",
    "#\n",
    "results = []\n",
    "for i in range(41, 52):\n",
    "    j = i - 40\n",
    "    print(\"Training model {0} for week {1}\".format(j,i))\n",
    "    M.train(model_data.loc[j*7:7*i + 7])\n",
    "    results.append(M.evaluate())"
   ]
  },
  {
   "cell_type": "code",
   "execution_count": 30,
   "metadata": {},
   "outputs": [
    {
     "data": {
      "text/plain": [
       "array([7187.145 , 7143.798 , 7113.7324, 7173.985 , 7200.346 , 7300.2896,\n",
       "       7175.3203], dtype=float32)"
      ]
     },
     "execution_count": 30,
     "metadata": {},
     "output_type": "execute_result"
    }
   ],
   "source": [
    "M.predict(denormalized=True)"
   ]
  },
  {
   "cell_type": "markdown",
   "metadata": {},
   "source": [
    "### New Data, New Model\n",
    "Another strategy is to create and train a new model evey time new data is available. This approach tends to reduce catastrophic forgetting, but training time increases as data increases. \n",
    "\n",
    "It's implementation is quite simple.\n",
    "\n",
    "Let's assume we have old data for 49 weeks of 2019 and after a week we now have new data. We represent this wtih the variables `old_data` and `new_data`. "
   ]
  },
  {
   "cell_type": "code",
   "execution_count": 31,
   "metadata": {},
   "outputs": [],
   "source": [
    "old_data = model_data.loc[0*7:7*48 + 7]"
   ]
  },
  {
   "cell_type": "code",
   "execution_count": 32,
   "metadata": {},
   "outputs": [],
   "source": [
    "new_data = model_data.loc[0*7:7*49 + 7]"
   ]
  },
  {
   "cell_type": "code",
   "execution_count": 33,
   "metadata": {},
   "outputs": [],
   "source": [
    "M = Model(data=old_data,\n",
    "          variable='close',\n",
    "          predicted_period_size=7)"
   ]
  },
  {
   "cell_type": "code",
   "execution_count": 34,
   "metadata": {},
   "outputs": [
    {
     "data": {
      "text/plain": [
       "<tensorflow.python.keras.callbacks.History at 0x1b2aa8138d0>"
      ]
     },
     "execution_count": 34,
     "metadata": {},
     "output_type": "execute_result"
    }
   ],
   "source": [
    "M.build()\n",
    "M.train()"
   ]
  },
  {
   "cell_type": "code",
   "execution_count": 35,
   "metadata": {},
   "outputs": [
    {
     "data": {
      "text/plain": [
       "array([7286.304 , 7220.4487, 7410.7295, 7496.35  , 7523.3467, 7525.1533,\n",
       "       7362.4614], dtype=float32)"
      ]
     },
     "execution_count": 35,
     "metadata": {},
     "output_type": "execute_result"
    }
   ],
   "source": [
    "M.predict(denormalized=True)"
   ]
  },
  {
   "cell_type": "markdown",
   "metadata": {},
   "source": [
    "Now, assume that new data is available. Using this technicle we go ahead and create a new model using only the new data. "
   ]
  },
  {
   "cell_type": "code",
   "execution_count": 36,
   "metadata": {},
   "outputs": [],
   "source": [
    "#\n",
    "#  Re-instantiate the model with the Model()\n",
    "#  class using the new_data variable instead\n",
    "#  of the old_data one. \n",
    "#\n",
    "\n",
    "M = Model(data=new_data,\n",
    "          variable='close',\n",
    "          predicted_period_size=7)"
   ]
  },
  {
   "cell_type": "code",
   "execution_count": 37,
   "metadata": {},
   "outputs": [
    {
     "data": {
      "text/plain": [
       "<tensorflow.python.keras.callbacks.History at 0x1b2af751470>"
      ]
     },
     "execution_count": 37,
     "metadata": {},
     "output_type": "execute_result"
    }
   ],
   "source": [
    "M.build()\n",
    "M.train()"
   ]
  },
  {
   "cell_type": "code",
   "execution_count": 38,
   "metadata": {},
   "outputs": [
    {
     "data": {
      "text/plain": [
       "array([6629.0273, 6590.4287, 6608.812 , 6624.322 , 6490.407 , 6532.2583,\n",
       "       6315.8413], dtype=float32)"
      ]
     },
     "execution_count": 38,
     "metadata": {},
     "output_type": "execute_result"
    }
   ],
   "source": [
    "M.predict(denormalized=True)"
   ]
  },
  {
   "cell_type": "markdown",
   "metadata": {},
   "source": [
    "This approach is very simple to implement and tends to work well. We will be using this to deploy our application."
   ]
  }
 ],
 "metadata": {
  "kernelspec": {
   "display_name": "Python 3",
   "language": "python",
   "name": "python3"
  },
  "language_info": {
   "codemirror_mode": {
    "name": "ipython",
    "version": 3
   },
   "file_extension": ".py",
   "mimetype": "text/x-python",
   "name": "python",
   "nbconvert_exporter": "python",
   "pygments_lexer": "ipython3",
   "version": "3.6.9"
  }
 },
 "nbformat": 4,
 "nbformat_minor": 2
}
